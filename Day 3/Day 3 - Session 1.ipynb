{
 "cells": [
  {
   "cell_type": "markdown",
   "metadata": {},
   "source": [
    "# Regular Expression\n",
    "\n",
    "A regular expression is a special sequence of characters that helps you match or find other strings or sets of strings, using a specialized syntax held in a pattern. Regular expressions are widely used in UNIX world.\n",
    "\n",
    "The module re provides full support for Perl-like regular expressions in Python. The re module raises the exception re.error if an error occurs while compiling or using a regular expression."
   ]
  },
  {
   "cell_type": "code",
   "execution_count": 1,
   "metadata": {},
   "outputs": [],
   "source": [
    "import re"
   ]
  },
  {
   "cell_type": "code",
   "execution_count": 2,
   "metadata": {},
   "outputs": [
    {
     "name": "stdout",
     "output_type": "stream",
     "text": [
      "Phone number found:  ['129-123-4545']\n"
     ]
    }
   ],
   "source": [
    "# phoneNumberRegex variable contains regular expression object\n",
    "phoneNumberRegex = re.compile(r'\\d\\d\\d-\\d\\d\\d-\\d\\d\\d\\d')\n",
    "mo = phoneNumberRegex.findall('My number is 129-123-4545')\n",
    "\n",
    "# It will find the matched object from data & display it.\n",
    "print('Phone number found: ', mo)"
   ]
  },
  {
   "cell_type": "code",
   "execution_count": 3,
   "metadata": {},
   "outputs": [
    {
     "name": "stdout",
     "output_type": "stream",
     "text": [
      "[('415', '555', '9999'), ('212', '555', '0000')]\n"
     ]
    }
   ],
   "source": [
    "# If there are groups in the regular expression, then findall() will return a list of tuples. \n",
    "# Each tuple represents a found match, and its items are the matched strings for each group in the regex.\n",
    "phoneNumRegex = re.compile(r'(\\d\\d\\d)-(\\d\\d\\d)-(\\d\\d\\d\\d)')\n",
    "mo_findall_group = phoneNumRegex.findall('Cell: 415-555-9999 Work: 212-555-0000')\n",
    "\n",
    "print(mo_findall_group)"
   ]
  },
  {
   "cell_type": "markdown",
   "metadata": {},
   "source": [
    "- \\   Used to drop the special meaning of character following it (discussed below)\n",
    "- []  Represent a character class\n",
    "- ^   Matches the beginning\n",
    "- $   Matches the end\n",
    "- .   Matches any character except newline\n",
    "- ?   Matches zero or one occurrence.\n",
    "- |   Means OR (Matches with any of the characters separated by it.\n",
    "- (*)   Any number of occurrences (including 0 occurrences)\n",
    "- (+)   One ore more occurrences\n",
    "- {}  Indicate number of occurrences of a preceding RE to match.\n",
    "- ()  Enclose a group of REs"
   ]
  },
  {
   "cell_type": "code",
   "execution_count": 4,
   "metadata": {},
   "outputs": [
    {
     "name": "stdout",
     "output_type": "stream",
     "text": [
      "['192.168.0.10', '47.247.129.54']\n"
     ]
    }
   ],
   "source": [
    "# Find valid ip address\n",
    "ipRegex = re.compile(r'\\d{1,3}\\.\\d{1,3}\\.\\d{1,3}\\.\\d{1,3}')\n",
    "find_all_ips = ipRegex.findall('My local ip is 192.168.0.10 and public ip is 47.247.129.54')\n",
    "\n",
    "print(find_all_ips)"
   ]
  },
  {
   "cell_type": "code",
   "execution_count": 6,
   "metadata": {},
   "outputs": [
    {
     "name": "stdout",
     "output_type": "stream",
     "text": [
      "['1989-02-05', '1987-10-30']\n"
     ]
    }
   ],
   "source": [
    "# Find valid date matches a date in yyyy-mm-dd format from 1900-01-01 through 2099-12-31, \n",
    "# with a choice of four separators\n",
    "dateRegex = re.compile(r'((?:19|20)\\d\\d[- /.](?:0[1-9]|1[012])[- /.](?:0[1-9]|[12][0-9]|3[01]))')\n",
    "find_date = dateRegex.findall('1989-02-05 and 1987-10-30')\n",
    "\n",
    "print(find_date)"
   ]
  },
  {
   "cell_type": "markdown",
   "metadata": {},
   "source": [
    "- \\d\tAny numeric digit from 0 to 9.\n",
    "- \\D \tAny character that is not a numeric digit from 0 to 9.\n",
    "- \\w\tAny letter, numeric digit, or the underscore character. (Think of this as matching “word” characters.)\n",
    "- \\W \tAny character that is not a letter, numeric digit, or the underscore character.\n",
    "- \\s \tAny space, tab, or newline character. (Think of this as matching “space” characters.)\n",
    "- \\S \tAny character that is not a space, tab, or newline.\n",
    "\n",
    "\n",
    "Character classes are nice for shortening regular expressions. The character class\n",
    "[0-5] will match only the numbers 0 to 5; this is much shorter than typing \n",
    "(0|1|2|3|4|5)."
   ]
  },
  {
   "cell_type": "code",
   "execution_count": 6,
   "metadata": {},
   "outputs": [
    {
     "name": "stdout",
     "output_type": "stream",
     "text": [
      "['swapnil']\n"
     ]
    }
   ],
   "source": [
    "# Find valid password\n",
    "passwordRegex = re.compile(r'[a-z0-9_-]{6,18}')\n",
    "find_password = passwordRegex.findall('swapnil')\n",
    "\n",
    "print(find_password)"
   ]
  },
  {
   "cell_type": "code",
   "execution_count": 11,
   "metadata": {},
   "outputs": [
    {
     "name": "stdout",
     "output_type": "stream",
     "text": [
      "['sachin@flipkart.com']\n"
     ]
    }
   ],
   "source": [
    "# Find valid email address\n",
    "emailRegex = re.compile(r'((?:[a-zA-Z0-9._-]+)@(?:[a-zA-Z0-9]+)(?:\\.{1})(?:[a-zA-Z]{3,}))')\n",
    "find_email = emailRegex.findall('sundar@google.co.in and sachin@flipkart.com')\n",
    "\n",
    "print(find_email)"
   ]
  },
  {
   "cell_type": "code",
   "execution_count": 7,
   "metadata": {},
   "outputs": [
    {
     "name": "stdout",
     "output_type": "stream",
     "text": [
      "['sachin@flipkart.co.in']\n"
     ]
    }
   ],
   "source": [
    "# Find valid email address\n",
    "emailRegex = re.compile(r'((?:[a-zA-Z0-9._-]+)@(?:[a-zA-Z0-9]+)\\.(?:[a-zA-Z]{2,})\\.[a-zA-Z]{2})')\n",
    "find_email = emailRegex.findall('sundar@google.com and sachin@flipkart.co.in')\n",
    "\n",
    "print(find_email)"
   ]
  },
  {
   "cell_type": "code",
   "execution_count": 10,
   "metadata": {},
   "outputs": [
    {
     "name": "stdout",
     "output_type": "stream",
     "text": [
      "['Sachin@flipkart.com']\n"
     ]
    }
   ],
   "source": [
    "# Find valid email address\n",
    "data = 'sundar@google.co.in and Sachin@flipkart.com'\n",
    "find_email = re.findall(r'[a-zA-Z0-9._-]+@[a-zA-Z0-9]+\\.[a-zA-Z]{3,}',\n",
    "                                data, re.I)\n",
    "\n",
    "print(find_email)"
   ]
  },
  {
   "cell_type": "code",
   "execution_count": null,
   "metadata": {},
   "outputs": [],
   "source": []
  }
 ],
 "metadata": {
  "kernelspec": {
   "display_name": "Python 3",
   "language": "python",
   "name": "python3"
  },
  "language_info": {
   "codemirror_mode": {
    "name": "ipython",
    "version": 3
   },
   "file_extension": ".py",
   "mimetype": "text/x-python",
   "name": "python",
   "nbconvert_exporter": "python",
   "pygments_lexer": "ipython3",
   "version": "3.6.3"
  }
 },
 "nbformat": 4,
 "nbformat_minor": 2
}
